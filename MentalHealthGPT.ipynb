{
 "cells": [
  {
   "cell_type": "code",
   "execution_count": 10,
   "metadata": {},
   "outputs": [
    {
     "data": {
      "text/html": [
       "<div>\n",
       "<style scoped>\n",
       "    .dataframe tbody tr th:only-of-type {\n",
       "        vertical-align: middle;\n",
       "    }\n",
       "\n",
       "    .dataframe tbody tr th {\n",
       "        vertical-align: top;\n",
       "    }\n",
       "\n",
       "    .dataframe thead th {\n",
       "        text-align: right;\n",
       "    }\n",
       "</style>\n",
       "<table border=\"1\" class=\"dataframe\">\n",
       "  <thead>\n",
       "    <tr style=\"text-align: right;\">\n",
       "      <th></th>\n",
       "      <th>intents</th>\n",
       "    </tr>\n",
       "  </thead>\n",
       "  <tbody>\n",
       "    <tr>\n",
       "      <th>0</th>\n",
       "      <td>{'tag': 'greeting', 'patterns': ['Hi', 'Hey', ...</td>\n",
       "    </tr>\n",
       "    <tr>\n",
       "      <th>1</th>\n",
       "      <td>{'tag': 'morning', 'patterns': ['Good morning'...</td>\n",
       "    </tr>\n",
       "    <tr>\n",
       "      <th>2</th>\n",
       "      <td>{'tag': 'afternoon', 'patterns': ['Good aftern...</td>\n",
       "    </tr>\n",
       "    <tr>\n",
       "      <th>3</th>\n",
       "      <td>{'tag': 'evening', 'patterns': ['Good evening'...</td>\n",
       "    </tr>\n",
       "    <tr>\n",
       "      <th>4</th>\n",
       "      <td>{'tag': 'night', 'patterns': ['Good night'], '...</td>\n",
       "    </tr>\n",
       "  </tbody>\n",
       "</table>\n",
       "</div>"
      ],
      "text/plain": [
       "                                             intents\n",
       "0  {'tag': 'greeting', 'patterns': ['Hi', 'Hey', ...\n",
       "1  {'tag': 'morning', 'patterns': ['Good morning'...\n",
       "2  {'tag': 'afternoon', 'patterns': ['Good aftern...\n",
       "3  {'tag': 'evening', 'patterns': ['Good evening'...\n",
       "4  {'tag': 'night', 'patterns': ['Good night'], '..."
      ]
     },
     "execution_count": 10,
     "metadata": {},
     "output_type": "execute_result"
    }
   ],
   "source": [
    "import pandas as pd\n",
    "import json\n",
    "\n",
    "with open('intents.json', 'r', encoding='utf-8') as file:\n",
    "    data = json.load(file)\n",
    "\n",
    "df = pd.DataFrame(data)\n",
    "\n",
    "df.head()\n"
   ]
  },
  {
   "cell_type": "code",
   "execution_count": 11,
   "metadata": {},
   "outputs": [
    {
     "data": {
      "text/html": [
       "<div>\n",
       "<style scoped>\n",
       "    .dataframe tbody tr th:only-of-type {\n",
       "        vertical-align: middle;\n",
       "    }\n",
       "\n",
       "    .dataframe tbody tr th {\n",
       "        vertical-align: top;\n",
       "    }\n",
       "\n",
       "    .dataframe thead th {\n",
       "        text-align: right;\n",
       "    }\n",
       "</style>\n",
       "<table border=\"1\" class=\"dataframe\">\n",
       "  <thead>\n",
       "    <tr style=\"text-align: right;\">\n",
       "      <th></th>\n",
       "      <th>pattern</th>\n",
       "      <th>tag</th>\n",
       "      <th>responses</th>\n",
       "    </tr>\n",
       "  </thead>\n",
       "  <tbody>\n",
       "    <tr>\n",
       "      <th>0</th>\n",
       "      <td>Hi</td>\n",
       "      <td>greeting</td>\n",
       "      <td>[Hello there. Tell me how are you feeling toda...</td>\n",
       "    </tr>\n",
       "    <tr>\n",
       "      <th>1</th>\n",
       "      <td>Hey</td>\n",
       "      <td>greeting</td>\n",
       "      <td>[Hello there. Tell me how are you feeling toda...</td>\n",
       "    </tr>\n",
       "    <tr>\n",
       "      <th>2</th>\n",
       "      <td>Is anyone there?</td>\n",
       "      <td>greeting</td>\n",
       "      <td>[Hello there. Tell me how are you feeling toda...</td>\n",
       "    </tr>\n",
       "    <tr>\n",
       "      <th>3</th>\n",
       "      <td>Hi there</td>\n",
       "      <td>greeting</td>\n",
       "      <td>[Hello there. Tell me how are you feeling toda...</td>\n",
       "    </tr>\n",
       "    <tr>\n",
       "      <th>4</th>\n",
       "      <td>Hello</td>\n",
       "      <td>greeting</td>\n",
       "      <td>[Hello there. Tell me how are you feeling toda...</td>\n",
       "    </tr>\n",
       "  </tbody>\n",
       "</table>\n",
       "</div>"
      ],
      "text/plain": [
       "            pattern       tag  \\\n",
       "0                Hi  greeting   \n",
       "1               Hey  greeting   \n",
       "2  Is anyone there?  greeting   \n",
       "3          Hi there  greeting   \n",
       "4             Hello  greeting   \n",
       "\n",
       "                                           responses  \n",
       "0  [Hello there. Tell me how are you feeling toda...  \n",
       "1  [Hello there. Tell me how are you feeling toda...  \n",
       "2  [Hello there. Tell me how are you feeling toda...  \n",
       "3  [Hello there. Tell me how are you feeling toda...  \n",
       "4  [Hello there. Tell me how are you feeling toda...  "
      ]
     },
     "execution_count": 11,
     "metadata": {},
     "output_type": "execute_result"
    }
   ],
   "source": [
    "intent_patterns = []\n",
    "\n",
    "for intent in data['intents']:\n",
    "    for pattern in intent['patterns']:\n",
    "        intent_patterns.append({\n",
    "            \"pattern\": pattern,\n",
    "            \"tag\": intent['tag'],\n",
    "            \"responses\": intent['responses']\n",
    "        })\n",
    "\n",
    "df = pd.DataFrame(intent_patterns)\n",
    "df.head()"
   ]
  },
  {
   "cell_type": "code",
   "execution_count": 12,
   "metadata": {},
   "outputs": [],
   "source": [
    "import sentence_transformers\n",
    "from sentence_transformers import SentenceTransformer\n",
    "from sentence_transformers import util\n",
    "\n",
    "model = SentenceTransformer('paraphrase-MiniLM-L6-v2')  # lightweight and good\n",
    "\n",
    "corpus = [item[\"pattern\"] for item in intent_patterns]\n",
    "corpus_embeddings = model.encode(corpus, convert_to_tensor=True) "
   ]
  },
  {
   "cell_type": "code",
   "execution_count": 13,
   "metadata": {},
   "outputs": [],
   "source": [
    "import random\n",
    "\n",
    "def get_response(user_input):\n",
    "    user_embedding = model.encode(user_input, convert_to_tensor=True)\n",
    "    \n",
    "    # Find the closest pattern\n",
    "    scores = util.pytorch_cos_sim(user_embedding, corpus_embeddings)[0]\n",
    "    best_match_idx = scores.argmax().item()\n",
    "    \n",
    "    # Get matched intent\n",
    "    matched = intent_patterns[best_match_idx]\n",
    "    response = random.choice(matched['responses'])\n",
    "\n",
    "    return matched['tag'], response\n"
   ]
  },
  {
   "cell_type": "code",
   "execution_count": null,
   "metadata": {},
   "outputs": [
    {
     "name": "stdout",
     "output_type": "stream",
     "text": [
      "[SUICIDE] Bot: I'm very sorry to hear that but you have so much to look forward to. Please seek help by contacting: 9152987821.\n",
      "[NOT-TALKING] Bot: I want to help you. I really do. But in order for me to help you, you're gonna have to talk to me.\n",
      "[WRONG] Bot: I'm very sorry. Let's try that again\n",
      "[SKILL] Bot: I can provide general advice regarding anxiety and depression, answer questions related to mental health and make daily conversations. Do not consider me as a subsitute for an actual mental healthcare worker. Please seek help if you don't feel satisfied with me.\n",
      "[FACT-9] Bot: It is estimated that mental illness affects 1 in 5 adults in America, and that 1 in 24 adults have a serious mental illness. Mental illness does not discriminate; it can affect anyone, regardless of gender, age, income, social status, ethnicity, religion, sexual orientation, or background. Although mental illness can affect anyone, certain conditions may be more common in different populations. For instance, eating disorders tend to occur more often in females, while disorders such as attention deficit/hyperactivity disorder is more prevalent in children. Additionally, all ages are susceptible, but the young and the old are especially vulnerable. Mental illnesses usually strike individuals in the prime of their lives, with 75 percent of mental health conditions developing by the age of 24. This makes identification and treatment of mental disorders particularly difficult, because the normal personality and behavioral changes of adolescence may mask symptoms of a mental health condition. Parents and caretakers should be aware of this fact, and take notice of changes in their childÃ¢â‚¬â„¢s mood, personality, personal habits, and social withdrawal. When these occur in children under 18, they are referred to as serious emotional disturbances (SEDs).\n"
     ]
    }
   ],
   "source": [
    "while True:\n",
    "    user_input = input(\"You: \")\n",
    "    if user_input.lower() == \"quit\":\n",
    "        break\n",
    "    tag, bot_response = get_response(user_input)\n",
    "    print(f\"[{tag.upper()}] Bot: {bot_response}\")\n"
   ]
  }
 ],
 "metadata": {
  "kernelspec": {
   "display_name": "base",
   "language": "python",
   "name": "python3"
  },
  "language_info": {
   "codemirror_mode": {
    "name": "ipython",
    "version": 3
   },
   "file_extension": ".py",
   "mimetype": "text/x-python",
   "name": "python",
   "nbconvert_exporter": "python",
   "pygments_lexer": "ipython3",
   "version": "3.11.3"
  }
 },
 "nbformat": 4,
 "nbformat_minor": 2
}
